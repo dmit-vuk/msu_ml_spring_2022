{
 "cells": [
  {
   "cell_type": "markdown",
   "metadata": {
    "id": "x1sl5NVGgOQh"
   },
   "source": [
    "## Общая информация\n",
    "\n",
    "**Срок сдачи:** 5 апреля 2022, 08:30 \n",
    "\n",
    "**Штраф за опоздание:** по 1 баллу за 24 часа задержки. Через 5 дней домашнее задание сгорает.\n",
    "\n",
    "При отправлении ДЗ указывайте фамилию в названии файла\n",
    "Присылать ДЗ необходимо в виде ссылки на свой github репозиторий на почту ml1.sphere@mail.ru с указанием темы в следующем формате:\n",
    "\n",
    "[ML0220, Задание 1] Фамилия Имя.\n",
    "\n",
    "Используйте данный Ipython Notebook при оформлении домашнего задания."
   ]
  },
  {
   "cell_type": "markdown",
   "metadata": {
    "id": "NDREIm2TgOQq"
   },
   "source": [
    "\n",
    "**Штрафные баллы:**\n",
    "\n",
    "1. Отсутствие фамилии в имени скрипта (скрипт должен называться по аналогии со stroykova_hw1.ipynb) -0.5 баллов\n",
    "2. Все строчки должны быть выполнены. Нужно, чтобы output команды можно было увидеть уже в git'е. В противном случае -0.5 баллов\n"
   ]
  },
  {
   "cell_type": "code",
   "execution_count": 1,
   "metadata": {
    "id": "_2ig0dQTgOQs",
    "jupyter": {
     "outputs_hidden": true
    }
   },
   "outputs": [],
   "source": [
    "import numpy as np\n",
    "import matplotlib.pyplot as plt\n",
    "\n",
    "import seaborn as sns\n",
    "from sklearn import datasets\n",
    "from sklearn.base import BaseEstimator\n",
    "from sklearn.datasets import fetch_openml, fetch_20newsgroups\n",
    "\n",
    "from sklearn.model_selection import train_test_split\n",
    "from sklearn.neighbors import KNeighborsClassifier\n",
    "from sklearn.metrics import accuracy_score"
   ]
  },
  {
   "cell_type": "markdown",
   "metadata": {
    "id": "CT007ebCgOQv"
   },
   "source": [
    "### Задание 1 (1 балл)\n",
    "Реализовать KNN в классе MyKNeighborsClassifier (обязательное условие: точность не ниже sklearn реализации)\n",
    "Разберитесь самостоятельно, какая мера расстояния используется в KNeighborsClassifier дефолтно и реализуйте свой алгоритм именно с этой мерой. \n",
    "Для подсчета расстояний можно использовать функции [отсюда](https://docs.scipy.org/doc/scipy/reference/spatial.distance.html)"
   ]
  },
  {
   "cell_type": "code",
   "execution_count": 2,
   "metadata": {
    "id": "pzrviYk-gOQw"
   },
   "outputs": [],
   "source": [
    "def euclidean_distance(X, Y):\n",
    "    return np.sqrt((X*X).sum(axis=1).reshape(-1, 1) + (Y*Y).sum(axis=1) - 2*X@Y.T)\n",
    "\n",
    "\n",
    "def cosine_distance(X, Y):\n",
    "    import numpy as np\n",
    "    X_norm = np.sqrt((X*X).sum(axis=1).reshape(-1, 1))\n",
    "    Y_norm = np.sqrt((Y*Y).sum(axis=1))\n",
    "    X_norm[X_norm == 0] = 0.001\n",
    "    Y_norm[Y_norm == 0] = 0.001\n",
    "    return 1 - ((X@Y.T) / (X_norm * Y_norm))"
   ]
  },
  {
   "cell_type": "code",
   "execution_count": 3,
   "metadata": {
    "id": "V7QI9mGJgOQw"
   },
   "outputs": [],
   "source": [
    "from sklearn.neighbors import NearestNeighbors, KDTree"
   ]
  },
  {
   "cell_type": "code",
   "execution_count": 4,
   "metadata": {
    "id": "Z-5JnjBygOQx",
    "jupyter": {
     "outputs_hidden": true
    }
   },
   "outputs": [],
   "source": [
    "class MyKNeighborsClassifier(BaseEstimator):\n",
    "    def __init__(self, n_neighbors, algorithm='my_own', metric='euclidean', weights=False):\n",
    "        self.k = n_neighbors\n",
    "        self.strategy = algorithm\n",
    "        self.metric = metric\n",
    "        self.weights = weights\n",
    "        self.X_train = None\n",
    "        self.y_train = None\n",
    "        if algorithm != 'my_own' and algorithm != 'brute' and algorithm != 'kd_tree' and algorithm != 'ball_tree':\n",
    "            raise TypeError(\"Not right arguments for 'strategy'\")\n",
    "        if metric != 'euclidean' and metric != 'cosine':\n",
    "            raise TypeError(\"Not right arguments for 'metric'\")\n",
    "        if algorithm == 'my_own' or algorithm == 'kd_tree':\n",
    "            self.strat_class = None\n",
    "        elif self.metric == 'cosine' and (self.strategy == 'kd_tree' or self.strategy == 'ball_tree'):\n",
    "            raise TypeError(\"Not right metric for strategy\")\n",
    "        else:\n",
    "            self.strat_class = NearestNeighbors(n_neighbors=self.k, algorithm=algorithm, metric=metric)\n",
    "\n",
    "    def find_kneighbors(self, X, return_distance=True):\n",
    "        if self.X_train is None:\n",
    "            raise TypeError(\"This KNNClassifier instance is not fitted yet\")\n",
    "        if self.strategy == 'my_own':\n",
    "            if self.metric == 'euclidean':\n",
    "                Distances = euclidean_distance(X, self.X_train)\n",
    "            else:\n",
    "                Distances = cosine_distance(X, self.X_train)\n",
    "            Idx = np.argsort(Distances, axis=1)[..., :self.k]\n",
    "            Distances = np.sort(Distances, axis=1)[..., :self.k]\n",
    "            if return_distance is True:\n",
    "                return (Distances, Idx)\n",
    "            else:\n",
    "                return Idx\n",
    "        elif self.strategy == 'kd_tree':\n",
    "            return self.strat_class.query(X, self.k, return_distance=return_distance)\n",
    "        else:\n",
    "            return self.strat_class.kneighbors(X, self.k, return_distance=return_distance)\n",
    "\n",
    "    def fit(self, X, y):\n",
    "        self.X_train = np.copy(X)\n",
    "        self.y_train = np.copy(y)\n",
    "        if self.strategy == 'kd_tree':\n",
    "            self.strat_class = KDTree(X)\n",
    "        elif self.strategy != 'my_own':\n",
    "            self.strat_class.fit(self.X_train)\n",
    "            \n",
    "\n",
    "    def predict(self, X):\n",
    "        y_pred = np.array([])\n",
    "        eps = 1e-5\n",
    "\n",
    "        if self.weights:\n",
    "            weights, neighbors = self.find_kneighbors(X, return_distance=True)\n",
    "            weights = 1/(weights + eps)\n",
    "            classes = self.y_train[neighbors]\n",
    "            if self.k == 1:\n",
    "                y_pred = np.append(y_pred, classes)\n",
    "            else:\n",
    "                dist = np.zeros(len(np.unique(self.y_train)))\n",
    "                for j in range(len(classes)):\n",
    "                    for cl in range(len(np.unique(self.y_train))):\n",
    "                        dist[cl] = weights[j][classes[j] == cl].sum()\n",
    "                    idx = np.argmax(weights, axis=1)\n",
    "                    y_pred = np.append(y_pred, np.argmax(dist))\n",
    "                    dist[:] = 0\n",
    "        else:\n",
    "            neighbors = self.find_kneighbors(X, return_distance=False)\n",
    "            for n in neighbors:\n",
    "                classes = self.y_train[n]\n",
    "                if self.k == 1:\n",
    "                    y_pred = np.append(y_pred, classes)\n",
    "                else:\n",
    "                    classes_count = np.bincount(classes)\n",
    "                    y_pred = np.append(y_pred, np.argmax(classes_count))\n",
    "        return y_pred"
   ]
  },
  {
   "cell_type": "markdown",
   "metadata": {
    "id": "-aj6BBm0gOQ0"
   },
   "source": [
    "**IRIS**\n",
    "\n",
    "В библиотеке scikit-learn есть несколько датасетов из коробки. Один из них [Ирисы Фишера](https://ru.wikipedia.org/wiki/%D0%98%D1%80%D0%B8%D1%81%D1%8B_%D0%A4%D0%B8%D1%88%D0%B5%D1%80%D0%B0)"
   ]
  },
  {
   "cell_type": "code",
   "execution_count": 5,
   "metadata": {
    "id": "yIG147WhgOQ1",
    "jupyter": {
     "outputs_hidden": true
    }
   },
   "outputs": [],
   "source": [
    "iris = datasets.load_iris()"
   ]
  },
  {
   "cell_type": "code",
   "execution_count": 6,
   "metadata": {
    "id": "7a4sC5NlgOQ2",
    "jupyter": {
     "outputs_hidden": true
    }
   },
   "outputs": [],
   "source": [
    "X_train, X_test, y_train, y_test = train_test_split(iris.data, iris.target, test_size=0.1, stratify=iris.target)"
   ]
  },
  {
   "cell_type": "code",
   "execution_count": 7,
   "metadata": {
    "id": "2_YIXU6ggOQ3",
    "jupyter": {
     "outputs_hidden": true
    }
   },
   "outputs": [],
   "source": [
    "clf = KNeighborsClassifier(n_neighbors=2, algorithm='brute')\n",
    "my_clf = MyKNeighborsClassifier(n_neighbors=2, algorithm='my_own')"
   ]
  },
  {
   "cell_type": "code",
   "execution_count": 8,
   "metadata": {
    "id": "k2TT9-GngOQ3",
    "jupyter": {
     "outputs_hidden": true
    }
   },
   "outputs": [],
   "source": [
    "clf.fit(X_train, y_train)\n",
    "my_clf.fit(X_train, y_train)"
   ]
  },
  {
   "cell_type": "code",
   "execution_count": 9,
   "metadata": {
    "id": "_NIRqNOwgOQ4",
    "jupyter": {
     "outputs_hidden": true
    }
   },
   "outputs": [],
   "source": [
    "sklearn_pred = clf.predict(X_test)\n",
    "my_clf_pred = my_clf.predict(X_test)\n",
    "assert abs( accuracy_score(y_test, my_clf_pred) -  accuracy_score(y_test, sklearn_pred ) )<0.005, \"Score must be simillar\""
   ]
  },
  {
   "cell_type": "markdown",
   "metadata": {
    "id": "niZ2iOChgOQ4"
   },
   "source": [
    "### Задание 2 (0.5 балла)\n",
    "\n",
    "Давайте попробуем добиться скорости работы на fit, predict сравнимой со sklearn для iris. Допускается замедление не более чем в 2 раза. \n",
    "Для этого используем numpy. "
   ]
  },
  {
   "cell_type": "code",
   "execution_count": 11,
   "metadata": {
    "id": "USQOg-NigOQ5",
    "jupyter": {
     "outputs_hidden": true
    },
    "outputId": "fa8dcc0c-42a0-40a4-85c2-425b42e3967b"
   },
   "outputs": [
    {
     "name": "stdout",
     "output_type": "stream",
     "text": [
      "Wall time: 999 µs\n"
     ]
    },
    {
     "data": {
      "text/plain": [
       "KNeighborsClassifier(algorithm='brute', n_neighbors=2)"
      ]
     },
     "execution_count": 11,
     "metadata": {},
     "output_type": "execute_result"
    }
   ],
   "source": [
    "%time clf.fit(X_train, y_train)"
   ]
  },
  {
   "cell_type": "code",
   "execution_count": 12,
   "metadata": {
    "id": "whML472GgOQ6",
    "jupyter": {
     "outputs_hidden": true
    },
    "outputId": "08873b9b-8a35-4a4e-d536-9e401a73c783"
   },
   "outputs": [
    {
     "name": "stdout",
     "output_type": "stream",
     "text": [
      "Wall time: 0 ns\n"
     ]
    }
   ],
   "source": [
    "%time my_clf.fit(X_train, y_train)"
   ]
  },
  {
   "cell_type": "code",
   "execution_count": 13,
   "metadata": {
    "id": "D-SD_lk4gOQ6",
    "jupyter": {
     "outputs_hidden": true
    },
    "outputId": "65053261-5663-4448-8fe3-65212b3c2861"
   },
   "outputs": [
    {
     "name": "stdout",
     "output_type": "stream",
     "text": [
      "Wall time: 3 ms\n"
     ]
    },
    {
     "data": {
      "text/plain": [
       "array([0, 2, 0, 0, 1, 1, 1, 2, 2, 1, 0, 0, 2, 2, 1])"
      ]
     },
     "execution_count": 13,
     "metadata": {},
     "output_type": "execute_result"
    }
   ],
   "source": [
    "%time clf.predict(X_test)"
   ]
  },
  {
   "cell_type": "code",
   "execution_count": 14,
   "metadata": {
    "id": "WwkTji6qgOQ6",
    "jupyter": {
     "outputs_hidden": true
    },
    "outputId": "c0dbdde0-b1ee-4013-dab2-d95f7aa24143"
   },
   "outputs": [
    {
     "name": "stdout",
     "output_type": "stream",
     "text": [
      "Wall time: 1 ms\n"
     ]
    },
    {
     "data": {
      "text/plain": [
       "array([0., 2., 0., 0., 1., 1., 1., 2., 2., 1., 0., 0., 2., 2., 1.])"
      ]
     },
     "execution_count": 14,
     "metadata": {},
     "output_type": "execute_result"
    }
   ],
   "source": [
    "%time my_clf.predict(X_test)"
   ]
  },
  {
   "cell_type": "markdown",
   "metadata": {
    "id": "7dS6tFC9gOQ7"
   },
   "source": [
    "### Задание 3 (1 балл)\n",
    "Добавьте algorithm='kd_tree' в реализацию KNN (использовать KDTree из sklearn.neighbors). Необходимо добиться скорости работы на fit,  predict сравнимой со sklearn для iris. Допускается замедление не более чем в 2 раза. \n",
    "Для этого используем numpy. Точность не должна уступать значению KNN из sklearn. "
   ]
  },
  {
   "cell_type": "code",
   "execution_count": 15,
   "metadata": {
    "id": "Badsvu5wgOQ7",
    "jupyter": {
     "outputs_hidden": true
    }
   },
   "outputs": [],
   "source": [
    "clf = KNeighborsClassifier(n_neighbors=2, algorithm='kd_tree')\n",
    "my_clf = MyKNeighborsClassifier(n_neighbors=2, algorithm='kd_tree')"
   ]
  },
  {
   "cell_type": "code",
   "execution_count": 16,
   "metadata": {
    "id": "sItLS2bMgOQ8",
    "jupyter": {
     "outputs_hidden": true
    }
   },
   "outputs": [],
   "source": [
    "X_train, X_test, y_train, y_test = train_test_split(iris.data, iris.target, test_size=0.1, stratify=iris.target)"
   ]
  },
  {
   "cell_type": "code",
   "execution_count": 17,
   "metadata": {
    "id": "vBp0rnhzgOQ8",
    "jupyter": {
     "outputs_hidden": true
    },
    "outputId": "4f56d0bb-f4c6-4cbd-d7b0-33f27d23f536"
   },
   "outputs": [
    {
     "name": "stdout",
     "output_type": "stream",
     "text": [
      "Wall time: 22.5 ms\n"
     ]
    },
    {
     "data": {
      "text/plain": [
       "KNeighborsClassifier(algorithm='kd_tree', n_neighbors=2)"
      ]
     },
     "execution_count": 17,
     "metadata": {},
     "output_type": "execute_result"
    }
   ],
   "source": [
    "%time clf.fit(X_train, y_train)"
   ]
  },
  {
   "cell_type": "code",
   "execution_count": 18,
   "metadata": {
    "id": "U7fBw5kZgOQ8",
    "jupyter": {
     "outputs_hidden": true
    },
    "outputId": "acdbbf95-cf19-4fce-bf6e-6b457706510e"
   },
   "outputs": [
    {
     "name": "stdout",
     "output_type": "stream",
     "text": [
      "Wall time: 0 ns\n"
     ]
    }
   ],
   "source": [
    "%time my_clf.fit(X_train, y_train)"
   ]
  },
  {
   "cell_type": "code",
   "execution_count": 19,
   "metadata": {
    "id": "G8jgMmIEgOQ9",
    "jupyter": {
     "outputs_hidden": true
    },
    "outputId": "bbe55886-3982-40e8-e2ea-61ff0e2ad170"
   },
   "outputs": [
    {
     "name": "stdout",
     "output_type": "stream",
     "text": [
      "Wall time: 4.95 ms\n"
     ]
    },
    {
     "data": {
      "text/plain": [
       "array([0, 2, 1, 0, 0, 2, 1, 0, 1, 2, 0, 1, 2, 1, 1])"
      ]
     },
     "execution_count": 19,
     "metadata": {},
     "output_type": "execute_result"
    }
   ],
   "source": [
    "%time clf.predict(X_test)"
   ]
  },
  {
   "cell_type": "code",
   "execution_count": 20,
   "metadata": {
    "id": "rhDgACfMgOQ9",
    "jupyter": {
     "outputs_hidden": true
    },
    "outputId": "6a1c6f49-61d2-4d79-ec05-f3ddab1de97d"
   },
   "outputs": [
    {
     "name": "stdout",
     "output_type": "stream",
     "text": [
      "Wall time: 998 µs\n"
     ]
    },
    {
     "data": {
      "text/plain": [
       "array([0., 2., 1., 0., 0., 2., 1., 0., 1., 2., 0., 1., 2., 1., 1.])"
      ]
     },
     "execution_count": 20,
     "metadata": {},
     "output_type": "execute_result"
    }
   ],
   "source": [
    "%time my_clf.predict(X_test)"
   ]
  },
  {
   "cell_type": "code",
   "execution_count": 21,
   "metadata": {
    "id": "U91Q4mrJgOQ9",
    "jupyter": {
     "outputs_hidden": true
    }
   },
   "outputs": [],
   "source": [
    "sklearn_pred = clf.predict(X_test)\n",
    "my_clf_pred = my_clf.predict(X_test)\n",
    "assert abs( accuracy_score(y_test, my_clf_pred) -  accuracy_score(y_test, sklearn_pred ) )<0.005, \"Score must be simillar\""
   ]
  },
  {
   "cell_type": "markdown",
   "metadata": {
    "id": "Gs09_u7mgOQ9"
   },
   "source": [
    "### Задание 4 (2.5 балла)\n",
    "\n",
    "Рассмотрим новый датасет 20 newsgroups"
   ]
  },
  {
   "cell_type": "code",
   "execution_count": 22,
   "metadata": {
    "id": "NbfKv-QngOQ-",
    "jupyter": {
     "outputs_hidden": true
    }
   },
   "outputs": [],
   "source": [
    "newsgroups = fetch_20newsgroups(subset='train',remove=['headers','footers', 'quotes'])"
   ]
  },
  {
   "cell_type": "code",
   "execution_count": 23,
   "metadata": {
    "id": "3wA2JaBHgOQ-",
    "jupyter": {
     "outputs_hidden": true
    }
   },
   "outputs": [],
   "source": [
    "data = newsgroups['data']\n",
    "target = newsgroups['target']"
   ]
  },
  {
   "cell_type": "markdown",
   "metadata": {
    "id": "eVUj9fKzgOQ-"
   },
   "source": [
    "Преобразуйте текстовые данные из data с помощью [CountVectorizer](https://scikit-learn.org/stable/modules/generated/sklearn.feature_extraction.text.CountVectorizer.html). Словарь можно ограничить по частотности."
   ]
  },
  {
   "cell_type": "code",
   "execution_count": 24,
   "metadata": {
    "id": "Vd0e7A7rgOQ-",
    "jupyter": {
     "outputs_hidden": true
    }
   },
   "outputs": [],
   "source": [
    "from sklearn.feature_extraction.text import CountVectorizer, TfidfVectorizer"
   ]
  },
  {
   "cell_type": "code",
   "execution_count": 25,
   "metadata": {
    "id": "yPaeR-YVgOQ-"
   },
   "outputs": [],
   "source": [
    "count_vec = CountVectorizer(max_df=0.8, min_df=10, stop_words='english')\n",
    "tf_idf = TfidfVectorizer(max_df=0.8, min_df=10, stop_words='english')"
   ]
  },
  {
   "cell_type": "markdown",
   "metadata": {
    "id": "-d1OgXqcgOQ_"
   },
   "source": [
    "*Так мы получили векторное представление наших текстов. Значит можно приступать к задаче обучения модели*"
   ]
  },
  {
   "cell_type": "markdown",
   "metadata": {
    "id": "9ccrkXMpgOQ_"
   },
   "source": [
    "Реализуйте разбиение выборки для кросс-валидации на 3 фолдах. Разрешено использовать sklearn.cross_validation"
   ]
  },
  {
   "cell_type": "code",
   "execution_count": 14,
   "metadata": {
    "id": "kmz-PpzxgOQ_",
    "jupyter": {
     "outputs_hidden": true
    }
   },
   "outputs": [],
   "source": [
    "def kfold_split(num_objects, num_folds):\n",
    "    \"\"\"Split [0, 1, ..., num_objects - 1] into equal num_folds folds (last fold can be longer) and returns num_folds train-val \n",
    "       pairs of indexes.\n",
    "\n",
    "    Parameters:\n",
    "    num_objects (int): number of objects in train set\n",
    "    num_folds (int): number of folds for cross-validation split\n",
    "\n",
    "    Returns:\n",
    "    list((tuple(np.array, np.array))): list of length num_folds, where i-th element of list contains tuple of 2 numpy arrays,\n",
    "                                       the 1st numpy array contains all indexes without i-th fold while the 2nd one contains\n",
    "                                       i-th fold\n",
    "    \"\"\"\n",
    "    folds = []\n",
    "    num_test = num_objects // num_folds\n",
    "    last_test_idx = 0\n",
    "    all_idx = np.arange(num_objects)\n",
    "    for i in range(num_folds - 1):\n",
    "        test_idx = all_idx[last_test_idx:last_test_idx + num_test]\n",
    "        train_idx = np.delete(all_idx, test_idx)\n",
    "        folds += [(train_idx, test_idx)]\n",
    "        last_test_idx = last_test_idx + num_test\n",
    "    test_last = all_idx[last_test_idx:num_objects]\n",
    "    folds += [(np.delete(all_idx, test_last), test_last)]\n",
    "    return folds"
   ]
  },
  {
   "cell_type": "code",
   "execution_count": 15,
   "metadata": {
    "id": "0nT_pfKagOQ_"
   },
   "outputs": [],
   "source": [
    "def knn_cv_score(X, y, parameters, score_function, folds, knn_class):\n",
    "    \"\"\"Takes train data, counts cross-validation score over grid of parameters (all possible parameters combinations) \n",
    "\n",
    "    Parameters:\n",
    "    X (2d np.array): train set\n",
    "    y (1d np.array): train labels\n",
    "    parameters (dict): dict with keys from {n_neighbors, metrics, weights, normalizers}, values of type list,\n",
    "                       parameters['normalizers'] contains tuples (normalizer, normalizer_name), see parameters\n",
    "                       example in your jupyter notebook\n",
    "    score_function (callable): function with input (y_predict, y_true) which outputs score metric\n",
    "    folds (list): output of kfold_split\n",
    "    knn_class (obj): class of knn model to fit\n",
    "\n",
    "    Returns:\n",
    "    dict: key - tuple of (normalizer_name, n_neighbors, metric, weight), value - mean score over all folds\n",
    "    \"\"\"\n",
    "    if folds is None:\n",
    "        folds = kfold_split(X.shape[0], 3)\n",
    "    res = {}\n",
    "    n_neighbors = parameters['n_neighbors']\n",
    "    metrics = parameters['metrics']\n",
    "    weights = parameters['weights']\n",
    "    normalizers = parameters['normalizers']\n",
    "    for k in n_neighbors:\n",
    "        for metric in metrics:\n",
    "            for w in weights:\n",
    "                for norm in normalizers:\n",
    "                    cv_score = []\n",
    "                    for cv in folds:\n",
    "                        train_folds, test_folds = cv[0], cv[1]\n",
    "                        X_train, y_train = X[train_folds], y[train_folds]\n",
    "                        X_test, y_test = X[test_folds], y[test_folds]\n",
    "                        if norm[0] is not None:\n",
    "                            norm[0].fit(X_train)\n",
    "                            X_train = norm[0].transform(X_train)\n",
    "                            X_test = norm[0].transform(X_test)\n",
    "                        clf = knn_class(n_neighbors=k, weights=w, metric=metric)\n",
    "                        clf.fit(X_train, y_train)\n",
    "                        y_pred = clf.predict(X_test)\n",
    "                        cv_score.append(score_function(y_test, y_pred))\n",
    "                    key = (norm[1], k, metric, w)\n",
    "                    res[key] = np.mean(cv_score)\n",
    "    return res"
   ]
  },
  {
   "cell_type": "markdown",
   "metadata": {
    "id": "drLn3Y2LgORA"
   },
   "source": [
    "Напишите метод, позволяющий найти оптимальное количество ближайших соседей(дающее максимальную точность в среднем на валидации на 3 фолдах).\n",
    "Постройте график зависимости средней точности от количества соседей. Можно рассмотреть число соседей от 1 до 10."
   ]
  },
  {
   "cell_type": "code",
   "execution_count": 18,
   "metadata": {
    "id": "ceXyJStDgORA",
    "jupyter": {
     "outputs_hidden": true
    }
   },
   "outputs": [],
   "source": [
    "parameters = {\n",
    "    'n_neighbors': [i for i in range(1, 11)],\n",
    "    'metrics': ['euclidean', 'cosine'],\n",
    "    'weights': ['uniform'],\n",
    "    'normalizers': [(count_vec, 'CountVectorizer'), (tf_idf, 'TfidfVectorizer')]\n",
    "}"
   ]
  },
  {
   "cell_type": "code",
   "execution_count": 19,
   "metadata": {
    "id": "sLxdGKHsgORA"
   },
   "outputs": [],
   "source": [
    "folds = kfold_split(np.array(data).shape[0], 3)\n",
    "out = knn_cv_score(np.array(data), np.array(target), parameters, accuracy_score, folds, KNeighborsClassifier)"
   ]
  },
  {
   "cell_type": "code",
   "execution_count": 23,
   "metadata": {
    "id": "w7FbFe2Ws-yJ"
   },
   "outputs": [],
   "source": [
    "acc_cnt_euc, acc_cnt_cos, acc_tf_euc, acc_tf_cos = [], [], [], []\n",
    "for k in out.keys():\n",
    "    if k[0] == 'CountVectorizer':\n",
    "        if k[2] == 'euclidean':\n",
    "            acc_cnt_euc.append(out[k])\n",
    "        else:\n",
    "            acc_cnt_cos.append(out[k])\n",
    "    elif k[2] == 'euclidean':\n",
    "        acc_tf_euc.append(out[k])\n",
    "    else:\n",
    "        acc_tf_cos.append(out[k])"
   ]
  },
  {
   "cell_type": "code",
   "execution_count": 26,
   "metadata": {
    "id": "Y-EabjrnuW20"
   },
   "outputs": [],
   "source": [
    "def plot(x, y, labels, title, xlabel):\n",
    "    plt.figure(figsize=(13,7))\n",
    "\n",
    "    for acc, label in zip(y, labels):\n",
    "        plt.plot(x, acc, label=label)\n",
    "    \n",
    "    plt.title(title, fontsize=15)\n",
    "    plt.grid(True)\n",
    "    plt.ylabel(\"Accuracy\",  fontsize=15)\n",
    "    plt.xlabel(xlabel,  fontsize=15)\n",
    "    plt.legend(fontsize=15)"
   ]
  },
  {
   "cell_type": "code",
   "execution_count": 28,
   "metadata": {
    "colab": {
     "base_uri": "https://localhost:8080/",
     "height": 467
    },
    "id": "IG4aZWzBwFaF",
    "outputId": "fb57017e-377e-4f18-8256-00b4993523c8"
   },
   "outputs": [
    {
     "data": {
      "image/png": "[encoded data removed]",
      "text/plain": [
       "<Figure size 936x504 with 1 Axes>"
      ]
     },
     "metadata": {
      "needs_background": "light"
     },
     "output_type": "display_data"
    }
   ],
   "source": [
    "title = 'Mean accuracy on cross-validation'\n",
    "label1 = 'CountVectorizer + euclidean'\n",
    "label2 = 'CountVectorizer + cosine'\n",
    "label3 = 'TfidfVectorizer + euclidean'\n",
    "label4 = 'TfidfVectorizer + cosine'\n",
    "plot(range(1, 11), [acc_cnt_euc], [label1], title, 'n_neighbors')"
   ]
  },
  {
   "cell_type": "markdown",
   "metadata": {
    "id": "dhhniyh8gORA"
   },
   "source": [
    "Как изменится качество на валидации, если:\n",
    "\n",
    "1. Используется косинусная метрика вместо евклидовой.\n",
    "2. К текстам применяется TfIdf векторизацию( sklearn.feature_extraction.text.TfidfVectorizer)\n",
    "\n",
    "Сравните модели, выберите лучшую."
   ]
  },
  {
   "cell_type": "code",
   "execution_count": 29,
   "metadata": {
    "colab": {
     "base_uri": "https://localhost:8080/",
     "height": 467
    },
    "id": "yQ86FUeExDWk",
    "outputId": "13655900-91d2-44f2-ba0b-e94f09daff56"
   },
   "outputs": [
    {
     "data": {
      "image/png": "[encoded data removed]",
      "text/plain": [
       "<Figure size 936x504 with 1 Axes>"
      ]
     },
     "metadata": {
      "needs_background": "light"
     },
     "output_type": "display_data"
    }
   ],
   "source": [
    "plot(range(1, 11), [acc_cnt_euc, acc_cnt_cos, acc_tf_euc, acc_tf_cos], [label1, label2, label3, label4], title, 'n_neighbors')"
   ]
  },
  {
   "cell_type": "markdown",
   "metadata": {},
   "source": [
    "Видим, что наилучшее качество показал TfidfVectorizer + cosine с 10 соседями"
   ]
  },
  {
   "cell_type": "markdown",
   "metadata": {
    "id": "T_Bkc56sgORB"
   },
   "source": [
    "Загрузим  теперь test  часть нашей выборки и преобразуем её аналогично с train частью. Не забудьте, что наборы слов в train и test части могут отличаться."
   ]
  },
  {
   "cell_type": "code",
   "execution_count": 26,
   "metadata": {
    "id": "fSLijB6kgORB",
    "jupyter": {
     "outputs_hidden": true
    }
   },
   "outputs": [],
   "source": [
    "newsgroups = fetch_20newsgroups(subset='test',remove=['headers','footers', 'quotes'])"
   ]
  },
  {
   "cell_type": "markdown",
   "metadata": {
    "id": "vDuWUqP-gORB"
   },
   "source": [
    "Оценим точность вашей лучшей модели на test части датасета. Отличается ли оно от кросс-валидации? Попробуйте сделать выводы, почему отличается качество."
   ]
  },
  {
   "cell_type": "code",
   "execution_count": 28,
   "metadata": {
    "id": "Lu-8jBKxgORB",
    "jupyter": {
     "outputs_hidden": true
    }
   },
   "outputs": [
    {
     "data": {
      "text/plain": [
       "0.580987785448752"
      ]
     },
     "execution_count": 28,
     "metadata": {},
     "output_type": "execute_result"
    }
   ],
   "source": [
    "data_test = newsgroups['data']\n",
    "target_test = newsgroups['target']\n",
    "\n",
    "data_train_tf = tf_idf.fit_transform(data)\n",
    "data_test_tf = tf_idf.transform(data_test)\n",
    "\n",
    "knn = KNeighborsClassifier(n_neighbors=10, metric='cosine')\n",
    "knn.fit(data_train_tf, target)\n",
    "\n",
    "target_pred = knn.predict(data_test_tf)\n",
    "accuracy_score(target_pred, target_test)"
   ]
  }
 ],
 "metadata": {
  "colab": {
   "name": "hw1 (1).ipynb",
   "provenance": []
  },
  "kernelspec": {
   "display_name": "Python 3",
   "language": "python",
   "name": "python3"
  },
  "language_info": {
   "codemirror_mode": {
    "name": "ipython",
    "version": 3
   },
   "file_extension": ".py",
   "mimetype": "text/x-python",
   "name": "python",
   "nbconvert_exporter": "python",
   "pygments_lexer": "ipython3",
   "version": "3.8.3"
  }
 },
 "nbformat": 4,
 "nbformat_minor": 1
}
